{
 "cells": [
  {
   "cell_type": "code",
   "execution_count": 1,
   "metadata": {
    "collapsed": false
   },
   "outputs": [
    {
     "name": "stderr",
     "output_type": "stream",
     "text": [
      "Using TensorFlow backend.\n"
     ]
    }
   ],
   "source": [
    "import pandas as pd\n",
    "import numpy as np\n",
    "import scipy.io as sio\n",
    "import scipy as scipy\n",
    "import itertools as it\n",
    "import os\n",
    "from concise.preprocessing import encodeDNA"
   ]
  },
  {
   "cell_type": "code",
   "execution_count": null,
   "metadata": {
    "collapsed": false
   },
   "outputs": [
    {
     "name": "stderr",
     "output_type": "stream",
     "text": [
      "Using TensorFlow backend.\n",
      "/opt/modules/i12g/anaconda/3-4.1.1/envs/dev_concise/lib/python3.5/site-packages/matplotlib/font_manager.py:280: UserWarning: Matplotlib is building the font cache using fc-list. This may take a moment.\n",
      "  'Matplotlib is building the font cache using fc-list. '\n"
     ]
    }
   ],
   "source": [
    "import sys\n",
    "sys.path.append('../helper')\n",
    "import common as cm"
   ]
  },
  {
   "cell_type": "markdown",
   "metadata": {},
   "source": [
    "## Summary\n",
    "\n",
    "- Extract X, Y from data files, preprocess (clean, normalize, encode) X, Y. Save preprocessed data to file for modelling \n",
    "<br />\n",
    "- Create and save partition information into external file for cross validation "
   ]
  },
  {
   "cell_type": "markdown",
   "metadata": {},
   "source": [
    "## Helper functions"
   ]
  },
  {
   "cell_type": "code",
   "execution_count": 3,
   "metadata": {
    "collapsed": false
   },
   "outputs": [],
   "source": [
    "def featurize_donor_seq(seqs, boundary = 40):\n",
    "    seq1 = []\n",
    "    seq2 = []\n",
    "    for i in range(len(seqs)):\n",
    "        cur_seq = seqs[i]\n",
    "        seq1.append(str(cur_seq[0:boundary]))\n",
    "        seq2.append(str(cur_seq[boundary:100]))        \n",
    "    return seq1,seq2"
   ]
  },
  {
   "cell_type": "code",
   "execution_count": 4,
   "metadata": {
    "collapsed": true
   },
   "outputs": [],
   "source": [
    "def get_data(data_file = '../data/Reads.mat', seq_file = '../data/A5SS_Seqs.csv'):\n",
    "    data = sio.loadmat(data_file)\n",
    "    # A5SS\n",
    "    A5SS_data = data['A5SS']\n",
    "    A5SS_reads = np.array(A5SS_data.sum(1)).flatten()\n",
    "    A5SS_data = np.array(A5SS_data.todense())\n",
    "    # Get minigenes with reads\n",
    "    A5SS_nn = np.where(A5SS_data.sum(axis=1))\n",
    "    A5SS_reads = A5SS_reads[A5SS_nn]\n",
    "    A5SS_data = A5SS_data[A5SS_nn]\n",
    "    \n",
    "    # Normalize data\n",
    "    A5SS_data = A5SS_data/A5SS_data.sum(axis=1)[:,np.newaxis]\n",
    "\n",
    "    # Only include the first 80 positions and the the last position (unspliced)\n",
    "    Y = scipy.matrix(A5SS_data)\n",
    "    Y = scipy.hstack((Y[:,:80],Y[:,-1:]))\n",
    "    \n",
    "    # Get X\n",
    "    A5SS_seqs = pd.read_csv(seq_file,index_col=0).Seq[A5SS_nn[0]]\n",
    "    X1, X2 = featurize_donor_seq(A5SS_seqs.values)\n",
    "    return X1, X2, Y"
   ]
  },
  {
   "cell_type": "markdown",
   "metadata": {},
   "source": [
    "## Extract data and save to results folder\n",
    "    "
   ]
  },
  {
   "cell_type": "code",
   "execution_count": 5,
   "metadata": {
    "collapsed": false
   },
   "outputs": [],
   "source": [
    "#create folder to save results\n",
    "resultsdir = cm.create_folder(os.path.abspath('../results'))"
   ]
  },
  {
   "cell_type": "code",
   "execution_count": 7,
   "metadata": {
    "collapsed": false
   },
   "outputs": [],
   "source": [
    "X1, X2, Y = get_data()\n",
    "\n",
    "#encode X value\n",
    "encodeSeq1 = encodeDNA(X1)\n",
    "encodeSeq2 = encodeDNA(X2)\n",
    "\n",
    "#save data into result folder\n",
    "sio.savemat(resultsdir+'/feature_donor_seq.mat',{'X1':X1,'X2': X2, 'Y':Y, 'encodeSeq1': encodeSeq1, 'encodeSeq2': encodeSeq2})"
   ]
  },
  {
   "cell_type": "code",
   "execution_count": 10,
   "metadata": {
    "collapsed": false
   },
   "outputs": [],
   "source": [
    "#partition data into 10 folds for cross validation\n",
    "partition = cm.partition_data( 10, len(Y))\n",
    "np.save(resultsdir+'/paritions', partition)"
   ]
  },
  {
   "cell_type": "markdown",
   "metadata": {},
   "source": [
    "## Clean data"
   ]
  },
  {
   "cell_type": "code",
   "execution_count": 11,
   "metadata": {
    "collapsed": true
   },
   "outputs": [],
   "source": [
    "del X1\n",
    "del X2\n",
    "del Y\n",
    "del partition"
   ]
  }
 ],
 "metadata": {
  "anaconda-cloud": {},
  "kernelspec": {
   "display_name": "Python [conda env:dev_concise]",
   "language": "python",
   "name": "conda-env-dev_concise-py"
  },
  "language_info": {
   "codemirror_mode": {
    "name": "ipython",
    "version": 3
   },
   "file_extension": ".py",
   "mimetype": "text/x-python",
   "name": "python",
   "nbconvert_exporter": "python",
   "pygments_lexer": "ipython3",
   "version": "3.5.2"
  }
 },
 "nbformat": 4,
 "nbformat_minor": 0
}
