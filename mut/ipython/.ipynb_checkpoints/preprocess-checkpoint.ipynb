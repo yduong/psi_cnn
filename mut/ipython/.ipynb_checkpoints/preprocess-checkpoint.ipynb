{
 "cells": [
  {
   "cell_type": "code",
   "execution_count": null,
   "metadata": {
    "collapsed": true
   },
   "outputs": [],
   "source": [
    "%matplotlib inline\n",
    "import matplotlib.pyplot as plt\n",
    "import os\n",
    "import scipy.io as sio\n",
    "import numpy as np\n",
    "import scipy\n",
    "import pandas as pd\n",
    "\n",
    "from concise.preprocessing import encodeDNA\n",
    "import h5py"
   ]
  },
  {
   "cell_type": "markdown",
   "metadata": {},
   "source": [
    "## Summary\n",
    "- Extract data from data files\n",
    "- Preprocess data (clean, normalize, encode)\n",
    "- Split data into training, evaluate, test set and save as .h5 files to support fit_generator api in Keras"
   ]
  },
  {
   "cell_type": "markdown",
   "metadata": {},
   "source": [
    "## Helper functions"
   ]
  },
  {
   "cell_type": "code",
   "execution_count": 10,
   "metadata": {
    "collapsed": false
   },
   "outputs": [],
   "source": [
    "## prepare Seq and Y value to train the model\n",
    "\n",
    "def get_data(seqL = 100, prefix = 'GACAAGCAGAAGAACGGCATCAAAGTGAACTTCAAGATCCGCCACAACATCGAGG'\n",
    "             , data_file = '../data/Reads.mat'\n",
    "            , seq_file = '../data/A5SS_Seqs.csv'):\n",
    "    data = sio.loadmat(data_file)\n",
    "\n",
    "    A5SS_data = data['A5SS'][:]\n",
    "    A5SS_reads = np.array(A5SS_data.sum(1)).flatten()\n",
    "    A5SS_data = np.array(A5SS_data.todense())\n",
    "    # Get minigenes with reads\n",
    "    A5SS_nn = np.where(A5SS_data.sum(axis=1))\n",
    "    A5SS_reads = A5SS_reads[A5SS_nn]\n",
    "    A5SS_data = A5SS_data[A5SS_nn]\n",
    "    \n",
    "    count = A5SS_data.sum(axis=1)\n",
    "    A5SS_data = A5SS_data/A5SS_data.sum(axis=1)[:,np.newaxis]\n",
    "\n",
    "    # Only include the first 80 positions and the the last position (unspliced)\n",
    "    YA5 = scipy.matrix(A5SS_data)\n",
    "    YA5 = scipy.hstack((YA5[:,:80],YA5[:,-1:]))\n",
    "    A5Seq =  pd.read_csv(seq_file).Seq[np.array(A5SS_nn[0])]\n",
    "    \n",
    "    nonZeroIndex = np.where(np.array((np.sum(YA5, axis = 0) !=0))[0])[0][:-1]\n",
    "    \n",
    "    ##extract X\n",
    "    nonSlicingSeq = 'N' * seqL\n",
    "    Seqs = prefix[len(prefix)-int(seqL/2):]+ A5Seq \n",
    "    X = np.array([[x[nonZeroIndex[0]:nonZeroIndex[0]+seqL] for x in Seqs]]) #np.array([]) nonZeroIndex[0]+seqL\n",
    "    for i in (nonZeroIndex[1:]):\n",
    "        if (np.sum(YA5[:,i]) != 0):\n",
    "            X = np.concatenate((X, [[x[i:i+seqL] for x in Seqs]]), axis = 0)\n",
    "    X = np.concatenate((X, [[nonSlicingSeq for x in Seqs]]), axis = 0)\n",
    "    X = X.T\n",
    "    \n",
    "    #extract Y\n",
    "    Y = YA5[:,nonZeroIndex]\n",
    "    Y = scipy.hstack((Y,YA5[:,-1:]))\n",
    "    \n",
    "    #remove noises\n",
    "    unoiseIndexes = np.where(np.sum(Y, axis = 1) == 1)[0]\n",
    "    X = X[unoiseIndexes]\n",
    "    Y = Y[unoiseIndexes]\n",
    "    count = count[unoiseIndexes]\n",
    "    return X, Y, count"
   ]
  },
  {
   "cell_type": "code",
   "execution_count": 1,
   "metadata": {
    "collapsed": true
   },
   "outputs": [],
   "source": [
    "## extract X, Y from index start to end and save as .h5 file format\n",
    "def create_h5_file(X, Y, start, end, file_name):\n",
    "    encodeX = encodeDNA(np.array(np.ravel(X[start:end]), dtype='object'))\n",
    "    encodeTrain = encodeX.reshape(start-end, X.shape[1], encodeX.shape[1], encodeX.shape[2]) \n",
    "    Ytrain = Y[start:end,:]\n",
    "    with h5py.File(file_name, \"w\") as f:\n",
    "        \n",
    "        f.attrs['sample_count'] = end - start\n",
    "        xDSet = f.create_dataset(\"X\", encodeTrain.shape, dtype='f')  \n",
    "        xDSet[...] = encodeTrain \n",
    "\n",
    "        yDset = f.create_dataset(\"Y\", Ytrain.shape, dtype='f')\n",
    "        yDset[...] = Ytrain"
   ]
  },
  {
   "cell_type": "markdown",
   "metadata": {},
   "source": [
    "\n",
    "Plasmid sequence around the random sequence\n",
    "\n",
    "\"gacaagcagaagaacggcatcaaagtgaacttcaagatccgccacaacatcgaggtgcttggnnnnnnnnnnnnnnnnnnnnnnnnnggtcgacccaggttcgtgnnnnnnnnnnnnnnnnnnnnnnnnngaggtattcttatcaccttcgtggctacagagtttcctta\""
   ]
  },
  {
   "cell_type": "markdown",
   "metadata": {},
   "source": [
    "## Extract X, Y"
   ]
  },
  {
   "cell_type": "code",
   "execution_count": 11,
   "metadata": {
    "collapsed": false
   },
   "outputs": [],
   "source": [
    "X, Y, count = get_data()"
   ]
  },
  {
   "cell_type": "markdown",
   "metadata": {},
   "source": [
    "## Create trainining/evaluation/test dataset"
   ]
  },
  {
   "cell_type": "code",
   "execution_count": 2,
   "metadata": {
    "collapsed": false
   },
   "outputs": [],
   "source": [
    "resultsdir = '../results'\n",
    "if not os.path.exists(resultsdir):\n",
    "    os.makedirs(resultsdir)"
   ]
  },
  {
   "cell_type": "code",
   "execution_count": 56,
   "metadata": {
    "collapsed": false
   },
   "outputs": [],
   "source": [
    "create_h5_file(X, Y, 0,150000,resultsdir + \"train_data_full.hdf5\")"
   ]
  },
  {
   "cell_type": "code",
   "execution_count": 57,
   "metadata": {
    "collapsed": true
   },
   "outputs": [],
   "source": [
    "create_h5_file(150000,200000,resultsdir + \"val_data_full.hdf5\")"
   ]
  },
  {
   "cell_type": "code",
   "execution_count": 58,
   "metadata": {
    "collapsed": true
   },
   "outputs": [],
   "source": [
    "create_h5_file(200000,X.shape[0],resultsdir + \"test_data_full.hdf5\")"
   ]
  },
  {
   "cell_type": "code",
   "execution_count": 59,
   "metadata": {
    "collapsed": true
   },
   "outputs": [],
   "source": [
    "del X, Y, count"
   ]
  }
 ],
 "metadata": {
  "anaconda-cloud": {},
  "kernelspec": {
   "display_name": "Python [conda env:gpu-tensorflow]",
   "language": "python",
   "name": "conda-env-gpu-tensorflow-py"
  },
  "language_info": {
   "codemirror_mode": {
    "name": "ipython",
    "version": 3
   },
   "file_extension": ".py",
   "mimetype": "text/x-python",
   "name": "python",
   "nbconvert_exporter": "python",
   "pygments_lexer": "ipython3",
   "version": "3.5.2"
  }
 },
 "nbformat": 4,
 "nbformat_minor": 2
}
